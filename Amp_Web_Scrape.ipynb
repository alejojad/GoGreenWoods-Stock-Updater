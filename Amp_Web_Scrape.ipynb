{
 "cells": [
  {
   "cell_type": "code",
   "execution_count": 32,
   "id": "d4298f70",
   "metadata": {},
   "outputs": [],
   "source": [
    "#Tools from Selenium\n",
    "from selenium import webdriver\n",
    "from selenium.webdriver.common.by import By\n",
    "from selenium.webdriver.chrome.service import Service\n",
    "from selenium.webdriver.common.keys import Keys\n",
    "from webdriver_manager.chrome import ChromeDriverManager\n",
    "import time"
   ]
  },
  {
   "cell_type": "code",
   "execution_count": null,
   "id": "7344b538",
   "metadata": {},
   "outputs": [],
   "source": [
    "#Chrome setup \n",
    "CHROMEDRIVER_PATH = \"/Users/(USER_NAME)/tools/chromedriver\"\n",
    "# Setup Chrome with headless mode OFF \n",
    "options = webdriver.ChromeOptions()\n",
    "# options.add_argument('--headless')  # Delete # to run invisibly\n",
    "driver = webdriver.Chrome(service=Service(CHROMEDRIVER_PATH), options=options)\n",
    "#Login\n",
    "login_url = \"https://cms.amptab.com/\"\n",
    "driver.get(login_url)\n",
    "time.sleep(3)  # Give time for page to load\n",
    "\n",
    "email = \"email\"\n",
    "password = \"password\"\n",
    "\n",
    "# Fill in login form\n",
    "driver.find_element(By.NAME, \"signinEmail\").send_keys(email)\n",
    "driver.find_element(By.NAME, \"Password\").send_keys(password)\n",
    "\n",
    "# Click the login button\n",
    "driver.find_element(By.ID, \"signin_button_id\").click()\n",
    "time.sleep(3)  # wait for login to complete\n",
    "\n",
    "# Click the \"Shop\" button after login\n",
    "shop_button = driver.find_element(By.XPATH, '//a[contains(@href, \"/Manufacturer/244482/Shop2Catalog\")]')\n",
    "shop_button.click()\n",
    "\n",
    "# Wait for page to load\n",
    "time.sleep(3)\n",
    "\n",
    "#Find Living rooms category\n",
    "category_button = driver.find_element(By.XPATH, '//a[@class= \"filter-title-name collapsed\" and @href=\"#collpase-0\"]')\n",
    "category_button.click()\n",
    "\n",
    "time.sleep(2)\n",
    "\n",
    "Living_rooms_button =  driver.find_element(By.XPATH, '//input[@type= \"checkbox\" and @name=\"filter_Category\" and @value=\"LIVING+ROOM\"]')\n",
    "Living_rooms_button.click()\n",
    "\n",
    "time.sleep(2)\n",
    "\n",
    "submit_button = driver.find_element(By.XPATH, '//input[@id=\"search_button_id\"]')\n",
    "submit_button.click()\n",
    "\n",
    "time.sleep(3)\n",
    "\n",
    "#Change to list Format\n",
    "list_button= driver.find_element(By.XPATH,'//i[@class=\"fal fa-list-alt fa-lg\" and @aria-hidden=\"true\"]')\n",
    "list_button.click()\n"
   ]
  },
  {
   "cell_type": "code",
   "execution_count": 29,
   "id": "980a5f18",
   "metadata": {},
   "outputs": [],
   "source": [
    "#For Loop to scrape for the amount of pages\n",
    "import re\n",
    "count_element= driver.find_element(By.XPATH, '//div[contains(text(), \"Showing\")]')\n",
    "count_text = count_element.text.strip()\n",
    "\n",
    "match=re.search(r\" of (\\d+)\", count_text)\n",
    "total_products = int(match.group(1) if match else 0)\n",
    "\n",
    "items_per_page = 48\n",
    "total_pages = (total_products // items_per_page) + (1 if total_products % items_per_page != 0 else 0)\n",
    "\n",
    "#print(f\"Total products: {total_products}\")\n",
    "#print(f\"Total pages: {total_pages}\")"
   ]
  },
  {
   "cell_type": "code",
   "execution_count": 30,
   "id": "a7fd1642",
   "metadata": {},
   "outputs": [],
   "source": [
    "all_data = []\n",
    "\n",
    "for i in range(total_pages):\n",
    "    tbodies = driver.find_elements(By.XPATH, '//tbody[starts-with(@id, \"id-pn-\")]')\n",
    "    \n",
    "    for tbody in tbodies:\n",
    "        rows = tbody.find_elements(By.TAG_NAME, 'tr')\n",
    "\n",
    "        for row in rows:\n",
    "            try:\n",
    "                tds = row.find_elements(By.TAG_NAME, 'td')\n",
    "                \n",
    "                # Only process rows with full data\n",
    "                if len(tds) == 7:\n",
    "                    # Use -3, -2, -1 only if you're SURE you're getting SKU, stock, price at the end\n",
    "                    sku = tds[3].text.strip()\n",
    "                    stock = tds[5].text.strip()\n",
    "                    #price = tds[6].text.strip()\n",
    "                elif len(tds) == 6:\n",
    "                    # Use -3, -2, -1 only if you're SURE you're getting SKU, stock, price at the end\n",
    "                    sku = tds[2].text.strip()\n",
    "                    stock = tds[4].text.strip()\n",
    "                    #price = tds[5].text.strip()\n",
    "                else:\n",
    "                    continue\n",
    "                \n",
    "                all_data.append({\n",
    "                        'SKU': sku,\n",
    "                        'Stock': stock,\n",
    "                        #'Unit Price': price\n",
    "                })\n",
    "                \n",
    "            except Exception as e:\n",
    "                print(\"Row error:\", e)\n",
    "                continue\n",
    "\n",
    "    try:\n",
    "        next_button = driver.find_element(By.XPATH, '//a[text()=\">\"]')\n",
    "        driver.execute_script(\"arguments[0].click();\", next_button)\n",
    "        time.sleep(3)\n",
    "    except Exception as e:\n",
    "        print(\"No more pages or navigation failed.\")\n",
    "        break     "
   ]
  },
  {
   "cell_type": "code",
   "execution_count": 31,
   "id": "ab5c2c64",
   "metadata": {},
   "outputs": [
    {
     "name": "stdout",
     "output_type": "stream",
     "text": [
      "Saved Inventory ✅\n"
     ]
    }
   ],
   "source": [
    "import pandas as pd\n",
    "df = pd.DataFrame(all_data)         \n",
    "df.to_csv(\"raw_Inventory.csv\", index=False) \n",
    "print(\"Saved Inventory ✅\")"
   ]
  }
 ],
 "metadata": {
  "kernelspec": {
   "display_name": "Python 3",
   "language": "python",
   "name": "python3"
  },
  "language_info": {
   "codemirror_mode": {
    "name": "ipython",
    "version": 3
   },
   "file_extension": ".py",
   "mimetype": "text/x-python",
   "name": "python",
   "nbconvert_exporter": "python",
   "pygments_lexer": "ipython3",
   "version": "3.9.6"
  }
 },
 "nbformat": 4,
 "nbformat_minor": 5
}
