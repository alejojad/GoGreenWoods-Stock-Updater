{
 "cells": [
  {
   "cell_type": "code",
   "execution_count": null,
   "id": "e3baea46",
   "metadata": {},
   "outputs": [],
   "source": [
    "import pandas as pd\n",
    "import glob\n",
    "\n",
    "# ----------------------------\n",
    "# 1) Load scraped raw inventory\n",
    "# ----------------------------\n",
    "cleaned_df = pd.read_csv(\"raw_inventory.csv\")\n",
    "files = glob.glob(\"Inventory_*.csv\")\n",
    "latest_file = sorted(files)[-1]\n",
    "wayfair_df = pd.read_csv(latest_file)\n",
    "\n",
    "print(wayfair_df)"
   ]
  },
  {
   "cell_type": "code",
   "execution_count": null,
   "id": "9e2df4fd",
   "metadata": {},
   "outputs": [
    {
     "name": "stdout",
     "output_type": "stream",
     "text": [
      "      Supplier ID Supplier Part#  In Stock  Quantity Backordered  \\\n",
      "0          152772         100100         0                     0   \n",
      "1          152772         100101         0                     0   \n",
      "2          152772         100102         0                     0   \n",
      "3          152772         100103         0                     0   \n",
      "4          152772         100105         0                     0   \n",
      "...           ...            ...       ...                   ...   \n",
      "1133       152772     W680S00018         0                     0   \n",
      "1134       152772     W680S00024         0                     0   \n",
      "1135       152772     W680S00026        12                     0   \n",
      "1136       152772     W680S00030        12                     0   \n",
      "1137       152772     W680S00032        12                     0   \n",
      "\n",
      "      Quantity On Order  Item Next Availability Date  Discontinued  \\\n",
      "0                     0                          NaN             0   \n",
      "1                     0                          NaN             0   \n",
      "2                     0                          NaN             0   \n",
      "3                     0                          NaN             0   \n",
      "4                     0                          NaN             0   \n",
      "...                 ...                          ...           ...   \n",
      "1133                  0                          NaN             0   \n",
      "1134                  0                          NaN             0   \n",
      "1135                  0                          NaN             0   \n",
      "1136                  0                          NaN             0   \n",
      "1137                  0                          NaN             0   \n",
      "\n",
      "                                 Product Name / Options  \n",
      "0               Conkle 5 - Drawer Dresser / Color:Black  \n",
      "1               Conkle 5 - Drawer Dresser / Color:White  \n",
      "2            Conkle 5 - Drawer Dresser / Color:Mahogany  \n",
      "3              Conkle 5 - Drawer Dresser / Color:Cherry  \n",
      "4            Conkle 5 - Drawer Dresser / Color:Espresso  \n",
      "...                                                 ...  \n",
      "1133  Arielle Sectional Sofa Set / Body Fabric:Antiq...  \n",
      "1134  Arielle Sectional Sofa Set / Body Fabric:Beige...  \n",
      "1135  Arielle Sectional Sofa Set / Body Fabric:Beige...  \n",
      "1136  Arielle Sectional Sofa Set / Body Fabric:Gray ...  \n",
      "1137  Arielle Sectional Sofa Set / Body Fabric:Gray ...  \n",
      "\n",
      "[1138 rows x 8 columns]\n"
     ]
    }
   ],
   "source": [
    "# Normalize\n",
    "cleaned_df[\"SKU\"] = 'GGWal' + cleaned_df['SKU'].astype(str).str.strip()\n",
    "wayfair_df['Supplier Part#'] = wayfair_df['Supplier Part#'].str.strip()\n",
    "\n",
    "wayfair_df.set_index('Supplier Part#', inplace=True)\n",
    "cleaned_df.set_index('SKU', inplace=True)\n",
    "# Update stock values\n",
    "wayfair_df.update(cleaned_df[['Stock']].rename(columns={'Stock': 'In Stock'}))\n",
    "wayfair_df.reset_index(inplace=True)\n",
    "\n",
    "columns_to_fill = ['In Stock', 'Quantity Backordered', 'Quantity on Order']\n",
    "for col in columns_to_fill:\n",
    "    if col in wayfair_df.columns:\n",
    "        wayfair_df[col] = wayfair_df[col].fillna(0).astype(int)\n",
    "        \n",
    "cols = list(wayfair_df.columns)\n",
    "cols[0], cols[1] = cols[1], cols[0]\n",
    "wayfair_df = wayfair_df[cols]\n",
    "\n",
    "timestamp = datetime.now().strftime(\"%Y%m%d_%H%M%S\")\n",
    "wayfair_df.to_csv(f'merged_wayfair_inventory_{timestamp}.csv', index=False)\n",
    "\n",
    "print(wayfair_df)\n",
    "wayfair_df.to_csv('merged_wayfair_inventory.csv', index=False)\n",
    "\n"
   ]
  }
 ],
 "metadata": {
  "kernelspec": {
   "display_name": "Python 3",
   "language": "python",
   "name": "python3"
  },
  "language_info": {
   "codemirror_mode": {
    "name": "ipython",
    "version": 3
   },
   "file_extension": ".py",
   "mimetype": "text/x-python",
   "name": "python",
   "nbconvert_exporter": "python",
   "pygments_lexer": "ipython3",
   "version": "3.9.6"
  }
 },
 "nbformat": 4,
 "nbformat_minor": 5
}
